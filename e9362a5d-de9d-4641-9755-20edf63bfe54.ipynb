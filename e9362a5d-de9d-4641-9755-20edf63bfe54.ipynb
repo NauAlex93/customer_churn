{
 "cells": [
  {
   "cell_type": "markdown",
   "metadata": {},
   "source": [
    "# Отток клиентов"
   ]
  },
  {
   "cell_type": "markdown",
   "metadata": {},
   "source": [
    "Из «Бета-Банка» стали уходить клиенты. Каждый месяц. Немного, но заметно. Банковские маркетологи посчитали: сохранять текущих клиентов дешевле, чем привлекать новых.\n",
    "\n",
    "Нужно спрогнозировать, уйдёт клиент из банка в ближайшее время или нет. Вам предоставлены исторические данные о поведении клиентов и расторжении договоров с банком.\n",
    "\n",
    "Постройте модель с предельно большим значением *F1*-меры. Чтобы сдать проект успешно, нужно довести метрику до 0.59. Проверьте *F1*-меру на тестовой выборке самостоятельно.\n",
    "\n",
    "Дополнительно измеряйте *AUC-ROC*, сравнивайте её значение с *F1*-мерой.\n",
    "\n",
    "Источник данных: [https://www.kaggle.com/barelydedicated/bank-customer-churn-modeling](https://www.kaggle.com/barelydedicated/bank-customer-churn-modeling)"
   ]
  },
  {
   "cell_type": "markdown",
   "metadata": {},
   "source": [
    "# 1. Подготовка данных"
   ]
  },
  {
   "cell_type": "code",
   "execution_count": 93,
   "metadata": {
    "pycharm": {
     "name": "#%%\n"
    }
   },
   "outputs": [],
   "source": [
    "import pandas as pd\n",
    "import numpy as np\n",
    "from sklearn.ensemble import RandomForestClassifier\n",
    "from sklearn.linear_model import LogisticRegression\n",
    "from sklearn.metrics import f1_score\n",
    "from sklearn.model_selection import train_test_split\n",
    "from sklearn.metrics import roc_auc_score\n",
    "from sklearn.preprocessing import StandardScaler, OrdinalEncoder\n",
    "from sklearn.tree import DecisionTreeClassifier\n",
    "from sklearn.utils import shuffle\n",
    "\n",
    "#Код от ревьюера\n",
    "import warnings\n",
    "warnings.filterwarnings('ignore')"
   ]
  },
  {
   "cell_type": "code",
   "execution_count": 94,
   "metadata": {
    "pycharm": {
     "name": "#%%\n"
    }
   },
   "outputs": [
    {
     "name": "stdout",
     "output_type": "stream",
     "text": [
      "<class 'pandas.core.frame.DataFrame'>\n",
      "RangeIndex: 10000 entries, 0 to 9999\n",
      "Data columns (total 14 columns):\n",
      "RowNumber          10000 non-null int64\n",
      "CustomerId         10000 non-null int64\n",
      "Surname            10000 non-null object\n",
      "CreditScore        10000 non-null int64\n",
      "Geography          10000 non-null object\n",
      "Gender             10000 non-null object\n",
      "Age                10000 non-null int64\n",
      "Tenure             9091 non-null float64\n",
      "Balance            10000 non-null float64\n",
      "NumOfProducts      10000 non-null int64\n",
      "HasCrCard          10000 non-null int64\n",
      "IsActiveMember     10000 non-null int64\n",
      "EstimatedSalary    10000 non-null float64\n",
      "Exited             10000 non-null int64\n",
      "dtypes: float64(3), int64(8), object(3)\n",
      "memory usage: 1.1+ MB\n"
     ]
    },
    {
     "data": {
      "text/html": [
       "<div>\n",
       "<style scoped>\n",
       "    .dataframe tbody tr th:only-of-type {\n",
       "        vertical-align: middle;\n",
       "    }\n",
       "\n",
       "    .dataframe tbody tr th {\n",
       "        vertical-align: top;\n",
       "    }\n",
       "\n",
       "    .dataframe thead th {\n",
       "        text-align: right;\n",
       "    }\n",
       "</style>\n",
       "<table border=\"1\" class=\"dataframe\">\n",
       "  <thead>\n",
       "    <tr style=\"text-align: right;\">\n",
       "      <th></th>\n",
       "      <th>RowNumber</th>\n",
       "      <th>CustomerId</th>\n",
       "      <th>Surname</th>\n",
       "      <th>CreditScore</th>\n",
       "      <th>Geography</th>\n",
       "      <th>Gender</th>\n",
       "      <th>Age</th>\n",
       "      <th>Tenure</th>\n",
       "      <th>Balance</th>\n",
       "      <th>NumOfProducts</th>\n",
       "      <th>HasCrCard</th>\n",
       "      <th>IsActiveMember</th>\n",
       "      <th>EstimatedSalary</th>\n",
       "      <th>Exited</th>\n",
       "    </tr>\n",
       "  </thead>\n",
       "  <tbody>\n",
       "    <tr>\n",
       "      <td>0</td>\n",
       "      <td>1</td>\n",
       "      <td>15634602</td>\n",
       "      <td>Hargrave</td>\n",
       "      <td>619</td>\n",
       "      <td>France</td>\n",
       "      <td>Female</td>\n",
       "      <td>42</td>\n",
       "      <td>2.0</td>\n",
       "      <td>0.00</td>\n",
       "      <td>1</td>\n",
       "      <td>1</td>\n",
       "      <td>1</td>\n",
       "      <td>101348.88</td>\n",
       "      <td>1</td>\n",
       "    </tr>\n",
       "    <tr>\n",
       "      <td>1</td>\n",
       "      <td>2</td>\n",
       "      <td>15647311</td>\n",
       "      <td>Hill</td>\n",
       "      <td>608</td>\n",
       "      <td>Spain</td>\n",
       "      <td>Female</td>\n",
       "      <td>41</td>\n",
       "      <td>1.0</td>\n",
       "      <td>83807.86</td>\n",
       "      <td>1</td>\n",
       "      <td>0</td>\n",
       "      <td>1</td>\n",
       "      <td>112542.58</td>\n",
       "      <td>0</td>\n",
       "    </tr>\n",
       "    <tr>\n",
       "      <td>2</td>\n",
       "      <td>3</td>\n",
       "      <td>15619304</td>\n",
       "      <td>Onio</td>\n",
       "      <td>502</td>\n",
       "      <td>France</td>\n",
       "      <td>Female</td>\n",
       "      <td>42</td>\n",
       "      <td>8.0</td>\n",
       "      <td>159660.80</td>\n",
       "      <td>3</td>\n",
       "      <td>1</td>\n",
       "      <td>0</td>\n",
       "      <td>113931.57</td>\n",
       "      <td>1</td>\n",
       "    </tr>\n",
       "    <tr>\n",
       "      <td>3</td>\n",
       "      <td>4</td>\n",
       "      <td>15701354</td>\n",
       "      <td>Boni</td>\n",
       "      <td>699</td>\n",
       "      <td>France</td>\n",
       "      <td>Female</td>\n",
       "      <td>39</td>\n",
       "      <td>1.0</td>\n",
       "      <td>0.00</td>\n",
       "      <td>2</td>\n",
       "      <td>0</td>\n",
       "      <td>0</td>\n",
       "      <td>93826.63</td>\n",
       "      <td>0</td>\n",
       "    </tr>\n",
       "    <tr>\n",
       "      <td>4</td>\n",
       "      <td>5</td>\n",
       "      <td>15737888</td>\n",
       "      <td>Mitchell</td>\n",
       "      <td>850</td>\n",
       "      <td>Spain</td>\n",
       "      <td>Female</td>\n",
       "      <td>43</td>\n",
       "      <td>2.0</td>\n",
       "      <td>125510.82</td>\n",
       "      <td>1</td>\n",
       "      <td>1</td>\n",
       "      <td>1</td>\n",
       "      <td>79084.10</td>\n",
       "      <td>0</td>\n",
       "    </tr>\n",
       "    <tr>\n",
       "      <td>5</td>\n",
       "      <td>6</td>\n",
       "      <td>15574012</td>\n",
       "      <td>Chu</td>\n",
       "      <td>645</td>\n",
       "      <td>Spain</td>\n",
       "      <td>Male</td>\n",
       "      <td>44</td>\n",
       "      <td>8.0</td>\n",
       "      <td>113755.78</td>\n",
       "      <td>2</td>\n",
       "      <td>1</td>\n",
       "      <td>0</td>\n",
       "      <td>149756.71</td>\n",
       "      <td>1</td>\n",
       "    </tr>\n",
       "    <tr>\n",
       "      <td>6</td>\n",
       "      <td>7</td>\n",
       "      <td>15592531</td>\n",
       "      <td>Bartlett</td>\n",
       "      <td>822</td>\n",
       "      <td>France</td>\n",
       "      <td>Male</td>\n",
       "      <td>50</td>\n",
       "      <td>7.0</td>\n",
       "      <td>0.00</td>\n",
       "      <td>2</td>\n",
       "      <td>1</td>\n",
       "      <td>1</td>\n",
       "      <td>10062.80</td>\n",
       "      <td>0</td>\n",
       "    </tr>\n",
       "    <tr>\n",
       "      <td>7</td>\n",
       "      <td>8</td>\n",
       "      <td>15656148</td>\n",
       "      <td>Obinna</td>\n",
       "      <td>376</td>\n",
       "      <td>Germany</td>\n",
       "      <td>Female</td>\n",
       "      <td>29</td>\n",
       "      <td>4.0</td>\n",
       "      <td>115046.74</td>\n",
       "      <td>4</td>\n",
       "      <td>1</td>\n",
       "      <td>0</td>\n",
       "      <td>119346.88</td>\n",
       "      <td>1</td>\n",
       "    </tr>\n",
       "    <tr>\n",
       "      <td>8</td>\n",
       "      <td>9</td>\n",
       "      <td>15792365</td>\n",
       "      <td>He</td>\n",
       "      <td>501</td>\n",
       "      <td>France</td>\n",
       "      <td>Male</td>\n",
       "      <td>44</td>\n",
       "      <td>4.0</td>\n",
       "      <td>142051.07</td>\n",
       "      <td>2</td>\n",
       "      <td>0</td>\n",
       "      <td>1</td>\n",
       "      <td>74940.50</td>\n",
       "      <td>0</td>\n",
       "    </tr>\n",
       "    <tr>\n",
       "      <td>9</td>\n",
       "      <td>10</td>\n",
       "      <td>15592389</td>\n",
       "      <td>H?</td>\n",
       "      <td>684</td>\n",
       "      <td>France</td>\n",
       "      <td>Male</td>\n",
       "      <td>27</td>\n",
       "      <td>2.0</td>\n",
       "      <td>134603.88</td>\n",
       "      <td>1</td>\n",
       "      <td>1</td>\n",
       "      <td>1</td>\n",
       "      <td>71725.73</td>\n",
       "      <td>0</td>\n",
       "    </tr>\n",
       "    <tr>\n",
       "      <td>10</td>\n",
       "      <td>11</td>\n",
       "      <td>15767821</td>\n",
       "      <td>Bearce</td>\n",
       "      <td>528</td>\n",
       "      <td>France</td>\n",
       "      <td>Male</td>\n",
       "      <td>31</td>\n",
       "      <td>6.0</td>\n",
       "      <td>102016.72</td>\n",
       "      <td>2</td>\n",
       "      <td>0</td>\n",
       "      <td>0</td>\n",
       "      <td>80181.12</td>\n",
       "      <td>0</td>\n",
       "    </tr>\n",
       "    <tr>\n",
       "      <td>11</td>\n",
       "      <td>12</td>\n",
       "      <td>15737173</td>\n",
       "      <td>Andrews</td>\n",
       "      <td>497</td>\n",
       "      <td>Spain</td>\n",
       "      <td>Male</td>\n",
       "      <td>24</td>\n",
       "      <td>3.0</td>\n",
       "      <td>0.00</td>\n",
       "      <td>2</td>\n",
       "      <td>1</td>\n",
       "      <td>0</td>\n",
       "      <td>76390.01</td>\n",
       "      <td>0</td>\n",
       "    </tr>\n",
       "    <tr>\n",
       "      <td>12</td>\n",
       "      <td>13</td>\n",
       "      <td>15632264</td>\n",
       "      <td>Kay</td>\n",
       "      <td>476</td>\n",
       "      <td>France</td>\n",
       "      <td>Female</td>\n",
       "      <td>34</td>\n",
       "      <td>10.0</td>\n",
       "      <td>0.00</td>\n",
       "      <td>2</td>\n",
       "      <td>1</td>\n",
       "      <td>0</td>\n",
       "      <td>26260.98</td>\n",
       "      <td>0</td>\n",
       "    </tr>\n",
       "    <tr>\n",
       "      <td>13</td>\n",
       "      <td>14</td>\n",
       "      <td>15691483</td>\n",
       "      <td>Chin</td>\n",
       "      <td>549</td>\n",
       "      <td>France</td>\n",
       "      <td>Female</td>\n",
       "      <td>25</td>\n",
       "      <td>5.0</td>\n",
       "      <td>0.00</td>\n",
       "      <td>2</td>\n",
       "      <td>0</td>\n",
       "      <td>0</td>\n",
       "      <td>190857.79</td>\n",
       "      <td>0</td>\n",
       "    </tr>\n",
       "    <tr>\n",
       "      <td>14</td>\n",
       "      <td>15</td>\n",
       "      <td>15600882</td>\n",
       "      <td>Scott</td>\n",
       "      <td>635</td>\n",
       "      <td>Spain</td>\n",
       "      <td>Female</td>\n",
       "      <td>35</td>\n",
       "      <td>7.0</td>\n",
       "      <td>0.00</td>\n",
       "      <td>2</td>\n",
       "      <td>1</td>\n",
       "      <td>1</td>\n",
       "      <td>65951.65</td>\n",
       "      <td>0</td>\n",
       "    </tr>\n",
       "  </tbody>\n",
       "</table>\n",
       "</div>"
      ],
      "text/plain": [
       "    RowNumber  CustomerId   Surname  CreditScore Geography  Gender  Age  \\\n",
       "0           1    15634602  Hargrave          619    France  Female   42   \n",
       "1           2    15647311      Hill          608     Spain  Female   41   \n",
       "2           3    15619304      Onio          502    France  Female   42   \n",
       "3           4    15701354      Boni          699    France  Female   39   \n",
       "4           5    15737888  Mitchell          850     Spain  Female   43   \n",
       "5           6    15574012       Chu          645     Spain    Male   44   \n",
       "6           7    15592531  Bartlett          822    France    Male   50   \n",
       "7           8    15656148    Obinna          376   Germany  Female   29   \n",
       "8           9    15792365        He          501    France    Male   44   \n",
       "9          10    15592389        H?          684    France    Male   27   \n",
       "10         11    15767821    Bearce          528    France    Male   31   \n",
       "11         12    15737173   Andrews          497     Spain    Male   24   \n",
       "12         13    15632264       Kay          476    France  Female   34   \n",
       "13         14    15691483      Chin          549    France  Female   25   \n",
       "14         15    15600882     Scott          635     Spain  Female   35   \n",
       "\n",
       "    Tenure    Balance  NumOfProducts  HasCrCard  IsActiveMember  \\\n",
       "0      2.0       0.00              1          1               1   \n",
       "1      1.0   83807.86              1          0               1   \n",
       "2      8.0  159660.80              3          1               0   \n",
       "3      1.0       0.00              2          0               0   \n",
       "4      2.0  125510.82              1          1               1   \n",
       "5      8.0  113755.78              2          1               0   \n",
       "6      7.0       0.00              2          1               1   \n",
       "7      4.0  115046.74              4          1               0   \n",
       "8      4.0  142051.07              2          0               1   \n",
       "9      2.0  134603.88              1          1               1   \n",
       "10     6.0  102016.72              2          0               0   \n",
       "11     3.0       0.00              2          1               0   \n",
       "12    10.0       0.00              2          1               0   \n",
       "13     5.0       0.00              2          0               0   \n",
       "14     7.0       0.00              2          1               1   \n",
       "\n",
       "    EstimatedSalary  Exited  \n",
       "0         101348.88       1  \n",
       "1         112542.58       0  \n",
       "2         113931.57       1  \n",
       "3          93826.63       0  \n",
       "4          79084.10       0  \n",
       "5         149756.71       1  \n",
       "6          10062.80       0  \n",
       "7         119346.88       1  \n",
       "8          74940.50       0  \n",
       "9          71725.73       0  \n",
       "10         80181.12       0  \n",
       "11         76390.01       0  \n",
       "12         26260.98       0  \n",
       "13        190857.79       0  \n",
       "14         65951.65       0  "
      ]
     },
     "execution_count": 94,
     "metadata": {},
     "output_type": "execute_result"
    }
   ],
   "source": [
    "# Посмотрим на данные\n",
    "churn = pd.read_csv('./Churn.csv')\n",
    "churn.info()\n",
    "churn.head(15)"
   ]
  },
  {
   "cell_type": "markdown",
   "metadata": {},
   "source": [
    "# 2. Исследование задачи"
   ]
  },
  {
   "cell_type": "code",
   "execution_count": 95,
   "metadata": {
    "pycharm": {
     "name": "#%%\n"
    }
   },
   "outputs": [],
   "source": [
    "# Преобразуем данные по недвижимости клиентов Tenure, предположим, что nan значения - недвижимость отсутствует,\n",
    "# приведем к типу int\n",
    "churn['Tenure'] = churn['Tenure'].fillna(0.0).astype('int')\n"
   ]
  },
  {
   "cell_type": "code",
   "execution_count": 96,
   "metadata": {
    "pycharm": {
     "name": "#%%\n"
    }
   },
   "outputs": [
    {
     "data": {
      "text/plain": [
       "Exited\n",
       "0    7963\n",
       "1    2037\n",
       "Name: Exited, dtype: int64"
      ]
     },
     "execution_count": 96,
     "metadata": {},
     "output_type": "execute_result"
    }
   ],
   "source": [
    "# Посмотрим на распределение ушедших клиентов\n",
    "churn.groupby('Exited')['Exited'].count()"
   ]
  },
  {
   "cell_type": "markdown",
   "metadata": {},
   "source": [
    "Будем решать задачу классификации, т.к. целевой признак является категориальным.\n",
    "Наблюдается дисбаланс классов, ушедших клиентов почти в 4 раза больше, чем оставшихся.\n",
    "Обучим модель с дисбалансом, потом исправим это."
   ]
  },
  {
   "cell_type": "code",
   "execution_count": 97,
   "metadata": {
    "pycharm": {
     "name": "#%%\n"
    }
   },
   "outputs": [],
   "source": [
    "# Удалим столбцы, которые не влияют на обучение модели\n",
    "useless_data = ['RowNumber', 'CustomerId', 'Surname']\n",
    "churn = churn.drop(useless_data, axis=1)\n",
    "churn['Geography'] = pd.get_dummies(churn['Geography'], drop_first=True)\n",
    "churn['Gender'] = pd.get_dummies(churn['Gender'], drop_first=True)"
   ]
  },
  {
   "cell_type": "code",
   "execution_count": 98,
   "metadata": {
    "pycharm": {
     "name": "#%%\n"
    }
   },
   "outputs": [],
   "source": [
    "def prepare_data(data):\n",
    "    target = data['Exited']\n",
    "    features = data.drop('Exited', axis=1)\n",
    "    return target, features"
   ]
  },
  {
   "cell_type": "markdown",
   "metadata": {},
   "source": [
    "Спрятанной тестовой выборки в задании нет, поэтому будем разбивать исходный набор данных на три части: обучающую, валидационную и тестовую. Размеры тестового и валидационного наборов сделаем равными."
   ]
  },
  {
   "cell_type": "code",
   "execution_count": 99,
   "metadata": {
    "pycharm": {
     "name": "#%%\n"
    }
   },
   "outputs": [],
   "source": [
    "# Функция разбивает датасет на  обучающую, валидационную и тестовую выборки (60/20/20)\n",
    "def split_data(features, target):\n",
    "    features_train, features_valid, target_train, target_valid = train_test_split(\n",
    "        features, target, test_size=0.4, random_state=12345\n",
    "    )\n",
    "\n",
    "    features_valid, features_test, target_valid, target_test = train_test_split(\n",
    "        features_valid, target_valid, test_size=0.5, random_state=12345\n",
    "    )\n",
    "\n",
    "    # масштабируем количественные признаки\n",
    "    scaler = StandardScaler()\n",
    "    numeric = ['CreditScore', 'Age', 'Tenure', 'Balance', 'NumOfProducts', 'EstimatedSalary']\n",
    "    scaler.fit(features_train[numeric])\n",
    "\n",
    "    features_train[numeric] = scaler.transform(features_train[numeric])\n",
    "    features_valid[numeric] = scaler.transform(features_valid[numeric])\n",
    "    features_test[numeric] = scaler.transform(features_test[numeric])\n",
    "\n",
    "    return features_train, features_valid, features_test, target_train, target_valid, target_test"
   ]
  },
  {
   "cell_type": "code",
   "execution_count": 100,
   "metadata": {
    "pycharm": {
     "name": "#%%\n"
    }
   },
   "outputs": [],
   "source": [
    "# функция обучает модель и проверяет её предсказания на валидационной/тестовой выборке\n",
    "def train_and_predict(data, model, estimators = 0, max_depth = 0, samplefunc=None, test=False):\n",
    "    target, features = prepare_data(data)\n",
    "    features_train, features_valid, features_test, target_train, target_valid, target_test = split_data(features, target)\n",
    "\n",
    "    if samplefunc:\n",
    "        features_train, target_train = samplefunc(features_train, target_train)\n",
    "        \n",
    "        print(target_train.value_counts())\n",
    "\n",
    "    model.fit(features_train, target_train)\n",
    "    predicted_valid = model.predict(features_valid)\n",
    "\n",
    "    if estimators != 0:\n",
    "        print('Количество деревьев - ', estimators)\n",
    "\n",
    "    if max_depth != 0:\n",
    "        print('Максимальная глубина - ', max_depth)\n",
    "\n",
    "    print(f'F1-мера на валидационной выборке: {f1_score(target_valid, predicted_valid)}')\n",
    "\n",
    "    if test:\n",
    "        predictions_test = model.predict(features_test)\n",
    "        print(f'F1-мера на тестовой выборке: {f1_score(target_test, predicted_test)}')\n",
    "\n",
    "    return model"
   ]
  },
  {
   "cell_type": "code",
   "execution_count": 101,
   "metadata": {
    "pycharm": {
     "name": "#%%\n"
    }
   },
   "outputs": [
    {
     "name": "stdout",
     "output_type": "stream",
     "text": [
      "F1-мера на валидационной выборке: 0.3333333333333333\n"
     ]
    },
    {
     "data": {
      "text/plain": [
       "LogisticRegression(C=1.0, class_weight=None, dual=False, fit_intercept=True,\n",
       "                   intercept_scaling=1, l1_ratio=None, max_iter=100,\n",
       "                   multi_class='warn', n_jobs=None, penalty='l2',\n",
       "                   random_state=12345, solver='liblinear', tol=0.0001,\n",
       "                   verbose=0, warm_start=False)"
      ]
     },
     "execution_count": 101,
     "metadata": {},
     "output_type": "execute_result"
    }
   ],
   "source": [
    "# Логистическая регрессия\n",
    "data_ohe = pd.get_dummies(churn, drop_first=True)\n",
    "model = LogisticRegression(solver='liblinear', random_state=12345)\n",
    "train_and_predict(data_ohe, model)"
   ]
  },
  {
   "cell_type": "markdown",
   "metadata": {},
   "source": [
    "Результаты модели логистической регрессии оказались низкими, как и ожидалось. F1-мера = 0.31"
   ]
  },
  {
   "cell_type": "code",
   "execution_count": 102,
   "metadata": {
    "pycharm": {
     "name": "#%%\n"
    }
   },
   "outputs": [],
   "source": [
    "# Применим технику порядкового кодирования для категориальных признаков для моделей случайного леса и дерева решений\n",
    "encoder = OrdinalEncoder()\n",
    "data_ordinal = pd.DataFrame(encoder.fit_transform(churn), columns=churn.columns)"
   ]
  },
  {
   "cell_type": "code",
   "execution_count": 103,
   "metadata": {
    "pycharm": {
     "name": "#%%\n"
    }
   },
   "outputs": [
    {
     "name": "stdout",
     "output_type": "stream",
     "text": [
      "Максимальная глубина -  2\n",
      "F1-мера на валидационной выборке: 0.5217391304347825\n",
      "Максимальная глубина -  4\n",
      "F1-мера на валидационной выборке: 0.5528700906344411\n",
      "Максимальная глубина -  6\n",
      "F1-мера на валидационной выборке: 0.5658093797276854\n",
      "Максимальная глубина -  8\n",
      "F1-мера на валидационной выборке: 0.5384615384615384\n",
      "Максимальная глубина -  10\n",
      "F1-мера на валидационной выборке: 0.5381294964028777\n",
      "Максимальная глубина -  12\n",
      "F1-мера на валидационной выборке: 0.5079365079365079\n",
      "Максимальная глубина -  14\n",
      "F1-мера на валидационной выборке: 0.5109114249037227\n",
      "Максимальная глубина -  16\n",
      "F1-мера на валидационной выборке: 0.4987654320987654\n",
      "Максимальная глубина -  18\n",
      "F1-мера на валидационной выборке: 0.48727272727272725\n",
      "Максимальная глубина -  20\n",
      "F1-мера на валидационной выборке: 0.4794188861985472\n"
     ]
    }
   ],
   "source": [
    "# Дерево решений\n",
    "for max_depth in range(2, 22, 2):\n",
    "    model = DecisionTreeClassifier(max_depth=max_depth, random_state=12345)\n",
    "    train_and_predict(data_ordinal, model, estimators=0, max_depth=max_depth)"
   ]
  },
  {
   "cell_type": "markdown",
   "metadata": {},
   "source": [
    "📝 Пока лучшие результаты 0.53 получили у модели с глубиной равной 8"
   ]
  },
  {
   "cell_type": "code",
   "execution_count": 104,
   "metadata": {
    "pycharm": {
     "name": "#%%\n"
    }
   },
   "outputs": [
    {
     "name": "stdout",
     "output_type": "stream",
     "text": [
      "Количество деревьев -  10\n",
      "F1-мера на валидационной выборке: 0.5647425897035881\n",
      "Количество деревьев -  20\n",
      "F1-мера на валидационной выборке: 0.5691823899371069\n",
      "Количество деревьев -  30\n",
      "F1-мера на валидационной выборке: 0.5660377358490566\n",
      "Количество деревьев -  40\n",
      "F1-мера на валидационной выборке: 0.5727699530516431\n",
      "Количество деревьев -  50\n",
      "F1-мера на валидационной выборке: 0.5754276827371695\n",
      "Количество деревьев -  60\n",
      "F1-мера на валидационной выборке: 0.5696400625978091\n",
      "Количество деревьев -  70\n",
      "F1-мера на валидационной выборке: 0.5709828393135726\n",
      "Количество деревьев -  80\n",
      "F1-мера на валидационной выборке: 0.575\n",
      "Количество деревьев -  90\n",
      "F1-мера на валидационной выборке: 0.5682888540031397\n",
      "Количество деревьев -  100\n",
      "F1-мера на валидационной выборке: 0.5732283464566928\n",
      "Количество деревьев -  110\n",
      "F1-мера на валидационной выборке: 0.5691823899371069\n",
      "Количество деревьев -  120\n",
      "F1-мера на валидационной выборке: 0.5632911392405064\n",
      "Количество деревьев -  130\n",
      "F1-мера на валидационной выборке: 0.5632911392405064\n",
      "Количество деревьев -  140\n",
      "F1-мера на валидационной выборке: 0.560126582278481\n",
      "Количество деревьев -  150\n",
      "F1-мера на валидационной выборке: 0.5682888540031397\n",
      "Количество деревьев -  160\n",
      "F1-мера на валидационной выборке: 0.5691823899371069\n",
      "Количество деревьев -  170\n",
      "F1-мера на валидационной выборке: 0.5714285714285714\n",
      "Количество деревьев -  180\n",
      "F1-мера на валидационной выборке: 0.5736677115987461\n",
      "Количество деревьев -  190\n",
      "F1-мера на валидационной выборке: 0.5705329153605015\n",
      "Количество деревьев -  200\n",
      "F1-мера на валидационной выборке: 0.5709779179810726\n"
     ]
    }
   ],
   "source": [
    "# Случайный лес\n",
    "for estimators in range(10, 201, 10):\n",
    "    model = RandomForestClassifier(n_estimators=estimators, max_depth=8, random_state=12345)\n",
    "    train_and_predict(data_ordinal, model, estimators)"
   ]
  },
  {
   "cell_type": "markdown",
   "metadata": {},
   "source": [
    "Модель случайного леса предсказывает чуть лучше, чем дерево решений.\n",
    "Лучший результат `0.54` достигается при количестве деревьев равном 10"
   ]
  },
  {
   "cell_type": "markdown",
   "metadata": {},
   "source": [
    "## 3. Борьба с дисбалансом\n",
    "\n",
    "Теперь сбалансируем классы и обучим модели с новым гиперпараметром `class_weight='balanced'`."
   ]
  },
  {
   "cell_type": "code",
   "execution_count": 105,
   "metadata": {
    "pycharm": {
     "name": "#%%\n"
    }
   },
   "outputs": [
    {
     "name": "stdout",
     "output_type": "stream",
     "text": [
      "F1-мера на валидационной выборке: 0.4914383561643835\n"
     ]
    },
    {
     "data": {
      "text/plain": [
       "LogisticRegression(C=1.0, class_weight='balanced', dual=False,\n",
       "                   fit_intercept=True, intercept_scaling=1, l1_ratio=None,\n",
       "                   max_iter=100, multi_class='warn', n_jobs=None, penalty='l2',\n",
       "                   random_state=12345, solver='liblinear', tol=0.0001,\n",
       "                   verbose=0, warm_start=False)"
      ]
     },
     "execution_count": 105,
     "metadata": {},
     "output_type": "execute_result"
    }
   ],
   "source": [
    "# Логистическая регрессия\n",
    "model = LogisticRegression(class_weight='balanced', solver='liblinear', random_state=12345)\n",
    "train_and_predict(data_ohe, model)"
   ]
  },
  {
   "cell_type": "markdown",
   "metadata": {},
   "source": [
    "Значение F1-меры увеличилось до 0.48. Все равно такой результат не подходит."
   ]
  },
  {
   "cell_type": "code",
   "execution_count": 106,
   "metadata": {
    "pycharm": {
     "name": "#%%\n"
    },
    "scrolled": false
   },
   "outputs": [
    {
     "name": "stdout",
     "output_type": "stream",
     "text": [
      "Максимальная глубина -  2\n",
      "F1-мера на валидационной выборке: 0.541015625\n",
      "Максимальная глубина -  4\n",
      "F1-мера на валидационной выборке: 0.5277777777777778\n",
      "Максимальная глубина -  6\n",
      "F1-мера на валидационной выборке: 0.5581835383159887\n",
      "Максимальная глубина -  8\n",
      "F1-мера на валидационной выборке: 0.5385365853658537\n",
      "Максимальная глубина -  10\n",
      "F1-мера на валидационной выборке: 0.5160662122687439\n",
      "Максимальная глубина -  12\n",
      "F1-мера на валидационной выборке: 0.5025641025641027\n",
      "Максимальная глубина -  14\n",
      "F1-мера на валидационной выборке: 0.476510067114094\n",
      "Максимальная глубина -  16\n",
      "F1-мера на валидационной выборке: 0.47980997624703087\n",
      "Максимальная глубина -  18\n",
      "F1-мера на валидационной выборке: 0.46737841043890865\n",
      "Максимальная глубина -  20\n",
      "F1-мера на валидационной выборке: 0.4620938628158845\n"
     ]
    }
   ],
   "source": [
    "# Дерево решений\n",
    "for max_depth in range(2, 22, 2):\n",
    "    model = DecisionTreeClassifier(class_weight='balanced', max_depth=max_depth, random_state=12345)\n",
    "    train_and_predict(data_ordinal, model, estimators=0, max_depth=max_depth)"
   ]
  },
  {
   "cell_type": "markdown",
   "metadata": {},
   "source": [
    "Значение F1-меры немного выросло: 0.54"
   ]
  },
  {
   "cell_type": "code",
   "execution_count": 107,
   "metadata": {
    "pycharm": {
     "name": "#%%\n"
    }
   },
   "outputs": [
    {
     "name": "stdout",
     "output_type": "stream",
     "text": [
      "Количество деревьев -  10\n",
      "F1-мера на валидационной выборке: 0.6263498920086392\n",
      "Количество деревьев -  20\n",
      "F1-мера на валидационной выборке: 0.6223698781838316\n",
      "Количество деревьев -  30\n",
      "F1-мера на валидационной выборке: 0.6172566371681416\n",
      "Количество деревьев -  40\n",
      "F1-мера на валидационной выборке: 0.6209944751381216\n",
      "Количество деревьев -  50\n",
      "F1-мера на валидационной выборке: 0.6226622662266227\n",
      "Количество деревьев -  60\n",
      "F1-мера на валидационной выборке: 0.6245919477693145\n",
      "Количество деревьев -  70\n",
      "F1-мера на валидационной выборке: 0.6281352235550708\n",
      "Количество деревьев -  80\n",
      "F1-мера на валидационной выборке: 0.6211453744493393\n",
      "Количество деревьев -  90\n",
      "F1-мера на валидационной выборке: 0.623059866962306\n",
      "Количество деревьев -  100\n",
      "F1-мера на валидационной выборке: 0.6189427312775331\n",
      "Количество деревьев -  110\n",
      "F1-мера на валидационной выборке: 0.6185792349726776\n",
      "Количество деревьев -  120\n",
      "F1-мера на валидационной выборке: 0.6175824175824175\n",
      "Количество деревьев -  130\n",
      "F1-мера на валидационной выборке: 0.6190998902305158\n",
      "Количество деревьев -  140\n",
      "F1-мера на валидационной выборке: 0.618421052631579\n",
      "Количество деревьев -  150\n",
      "F1-мера на валидационной выборке: 0.619934282584885\n",
      "Количество деревьев -  160\n",
      "F1-мера на валидационной выборке: 0.6243154435925521\n",
      "Количество деревьев -  170\n",
      "F1-мера на валидационной выборке: 0.6273224043715847\n",
      "Количество деревьев -  180\n",
      "F1-мера на валидационной выборке: 0.6228070175438596\n",
      "Количество деревьев -  190\n",
      "F1-мера на валидационной выборке: 0.621978021978022\n",
      "Количество деревьев -  200\n",
      "F1-мера на валидационной выборке: 0.623490669593853\n"
     ]
    }
   ],
   "source": [
    "# Случайный лес\n",
    "for estimators in range(10, 201, 10):\n",
    "    model = RandomForestClassifier(class_weight='balanced', n_estimators=estimators, max_depth=8, random_state=12345)\n",
    "    train_and_predict(data_ordinal, model, estimators=estimators)"
   ]
  },
  {
   "cell_type": "markdown",
   "metadata": {},
   "source": [
    "Получили самое высокое значение среди всех моделей F1-меры: 0.61. Достигнуто с 100 деревьями."
   ]
  },
  {
   "cell_type": "markdown",
   "metadata": {},
   "source": [
    "### Увеличение выборки\n",
    "\n",
    "Переобучим модель с балансировкой редких классов методом upsampling."
   ]
  },
  {
   "cell_type": "code",
   "execution_count": 108,
   "metadata": {
    "pycharm": {
     "name": "#%%\n"
    }
   },
   "outputs": [],
   "source": [
    "def upsample(features, target, repeat=4):\n",
    "    features_zeros = features[target == 0]\n",
    "    features_ones = features[target == 1]\n",
    "    target_zeros = target[target == 0]\n",
    "    target_ones = target[target == 1]\n",
    "\n",
    "    features_upsampled = pd.concat([features_zeros] + [features_ones] * repeat)\n",
    "    target_upsampled = pd.concat([target_zeros] + [target_ones] * repeat)\n",
    "    \n",
    "    features_upsampled, target_upsampled = shuffle(\n",
    "        features_upsampled, target_upsampled, random_state=12345)\n",
    "    \n",
    "    return features_upsampled, target_upsampled"
   ]
  },
  {
   "cell_type": "markdown",
   "metadata": {},
   "source": [
    "#### Логистическая регрессия"
   ]
  },
  {
   "cell_type": "code",
   "execution_count": 109,
   "metadata": {
    "pycharm": {
     "name": "#%%\n"
    }
   },
   "outputs": [
    {
     "name": "stdout",
     "output_type": "stream",
     "text": [
      "0    4804\n",
      "1    4784\n",
      "Name: Exited, dtype: int64\n",
      "F1-мера на валидационной выборке: 0.4918594687232219\n"
     ]
    },
    {
     "data": {
      "text/plain": [
       "LogisticRegression(C=1.0, class_weight=None, dual=False, fit_intercept=True,\n",
       "                   intercept_scaling=1, l1_ratio=None, max_iter=100,\n",
       "                   multi_class='warn', n_jobs=None, penalty='l2',\n",
       "                   random_state=12345, solver='liblinear', tol=0.0001,\n",
       "                   verbose=0, warm_start=False)"
      ]
     },
     "execution_count": 109,
     "metadata": {},
     "output_type": "execute_result"
    }
   ],
   "source": [
    "model = LogisticRegression(solver='liblinear', random_state = 12345)\n",
    "train_and_predict(data_ohe, model, samplefunc = upsample)"
   ]
  },
  {
   "cell_type": "markdown",
   "metadata": {},
   "source": [
    "Значение F1-меры почти не изменилось."
   ]
  },
  {
   "cell_type": "markdown",
   "metadata": {},
   "source": [
    "#### Дерево решений"
   ]
  },
  {
   "cell_type": "code",
   "execution_count": 110,
   "metadata": {
    "pycharm": {
     "name": "#%%\n"
    }
   },
   "outputs": [
    {
     "name": "stdout",
     "output_type": "stream",
     "text": [
      "0.0    4804\n",
      "1.0    4784\n",
      "Name: Exited, dtype: int64\n",
      "Максимальная глубина -  2\n",
      "F1-мера на валидационной выборке: 0.541015625\n",
      "0.0    4804\n",
      "1.0    4784\n",
      "Name: Exited, dtype: int64\n",
      "Максимальная глубина -  4\n",
      "F1-мера на валидационной выборке: 0.5277777777777778\n",
      "0.0    4804\n",
      "1.0    4784\n",
      "Name: Exited, dtype: int64\n",
      "Максимальная глубина -  6\n",
      "F1-мера на валидационной выборке: 0.5581835383159887\n",
      "0.0    4804\n",
      "1.0    4784\n",
      "Name: Exited, dtype: int64\n",
      "Максимальная глубина -  8\n",
      "F1-мера на валидационной выборке: 0.538160469667319\n",
      "0.0    4804\n",
      "1.0    4784\n",
      "Name: Exited, dtype: int64\n",
      "Максимальная глубина -  10\n",
      "F1-мера на валидационной выборке: 0.5213082259663032\n",
      "0.0    4804\n",
      "1.0    4784\n",
      "Name: Exited, dtype: int64\n",
      "Максимальная глубина -  12\n",
      "F1-мера на валидационной выборке: 0.5145228215767635\n",
      "0.0    4804\n",
      "1.0    4784\n",
      "Name: Exited, dtype: int64\n",
      "Максимальная глубина -  14\n",
      "F1-мера на валидационной выборке: 0.489795918367347\n",
      "0.0    4804\n",
      "1.0    4784\n",
      "Name: Exited, dtype: int64\n",
      "Максимальная глубина -  16\n",
      "F1-мера на валидационной выборке: 0.485414235705951\n",
      "0.0    4804\n",
      "1.0    4784\n",
      "Name: Exited, dtype: int64\n",
      "Максимальная глубина -  18\n",
      "F1-мера на валидационной выборке: 0.4710144927536232\n",
      "0.0    4804\n",
      "1.0    4784\n",
      "Name: Exited, dtype: int64\n",
      "Максимальная глубина -  20\n",
      "F1-мера на валидационной выборке: 0.47228915662650606\n"
     ]
    }
   ],
   "source": [
    "for max_depth in range(2, 22, 2):\n",
    "    model = DecisionTreeClassifier(max_depth = max_depth, random_state = 12345)\n",
    "    train_and_predict(data_ordinal, model, max_depth = max_depth, samplefunc = upsample)"
   ]
  },
  {
   "cell_type": "markdown",
   "metadata": {},
   "source": [
    "Здесь значение F1-меры так же почти не изменилось по сравнению с балансировкой."
   ]
  },
  {
   "cell_type": "markdown",
   "metadata": {},
   "source": [
    "#### Случайный лес"
   ]
  },
  {
   "cell_type": "code",
   "execution_count": 111,
   "metadata": {
    "pycharm": {
     "name": "#%%\n"
    }
   },
   "outputs": [
    {
     "name": "stdout",
     "output_type": "stream",
     "text": [
      "0.0    4804\n",
      "1.0    4784\n",
      "Name: Exited, dtype: int64\n",
      "Количество деревьев -  10\n",
      "F1-мера на валидационной выборке: 0.5886363636363636\n",
      "0.0    4804\n",
      "1.0    4784\n",
      "Name: Exited, dtype: int64\n",
      "Количество деревьев -  20\n",
      "F1-мера на валидационной выборке: 0.6096131301289567\n",
      "0.0    4804\n",
      "1.0    4784\n",
      "Name: Exited, dtype: int64\n",
      "Количество деревьев -  30\n",
      "F1-мера на валидационной выборке: 0.6083916083916083\n",
      "0.0    4804\n",
      "1.0    4784\n",
      "Name: Exited, dtype: int64\n",
      "Количество деревьев -  40\n",
      "F1-мера на валидационной выборке: 0.6107226107226107\n",
      "0.0    4804\n",
      "1.0    4784\n",
      "Name: Exited, dtype: int64\n",
      "Количество деревьев -  50\n",
      "F1-мера на валидационной выборке: 0.61629279811098\n",
      "0.0    4804\n",
      "1.0    4784\n",
      "Name: Exited, dtype: int64\n",
      "Количество деревьев -  60\n",
      "F1-мера на валидационной выборке: 0.627497062279671\n",
      "0.0    4804\n",
      "1.0    4784\n",
      "Name: Exited, dtype: int64\n",
      "Количество деревьев -  70\n",
      "F1-мера на валидационной выборке: 0.6214953271028038\n",
      "0.0    4804\n",
      "1.0    4784\n",
      "Name: Exited, dtype: int64\n",
      "Количество деревьев -  80\n",
      "F1-мера на валидационной выборке: 0.6141176470588235\n",
      "0.0    4804\n",
      "1.0    4784\n",
      "Name: Exited, dtype: int64\n",
      "Количество деревьев -  90\n",
      "F1-мера на валидационной выборке: 0.619718309859155\n",
      "0.0    4804\n",
      "1.0    4784\n",
      "Name: Exited, dtype: int64\n",
      "Количество деревьев -  100\n",
      "F1-мера на валидационной выборке: 0.6223776223776223\n",
      "0.0    4804\n",
      "1.0    4784\n",
      "Name: Exited, dtype: int64\n",
      "Количество деревьев -  110\n",
      "F1-мера на валидационной выборке: 0.6267605633802817\n",
      "0.0    4804\n",
      "1.0    4784\n",
      "Name: Exited, dtype: int64\n",
      "Количество деревьев -  120\n",
      "F1-мера на валидационной выборке: 0.6216530849825378\n",
      "0.0    4804\n",
      "1.0    4784\n",
      "Name: Exited, dtype: int64\n",
      "Количество деревьев -  130\n",
      "F1-мера на валидационной выборке: 0.6223776223776223\n",
      "0.0    4804\n",
      "1.0    4784\n",
      "Name: Exited, dtype: int64\n",
      "Количество деревьев -  140\n",
      "F1-мера на валидационной выборке: 0.6213364595545136\n",
      "0.0    4804\n",
      "1.0    4784\n",
      "Name: Exited, dtype: int64\n",
      "Количество деревьев -  150\n",
      "F1-мера на валидационной выборке: 0.625\n",
      "0.0    4804\n",
      "1.0    4784\n",
      "Name: Exited, dtype: int64\n",
      "Количество деревьев -  160\n",
      "F1-мера на валидационной выборке: 0.625\n",
      "0.0    4804\n",
      "1.0    4784\n",
      "Name: Exited, dtype: int64\n",
      "Количество деревьев -  170\n",
      "F1-мера на валидационной выборке: 0.619718309859155\n",
      "0.0    4804\n",
      "1.0    4784\n",
      "Name: Exited, dtype: int64\n",
      "Количество деревьев -  180\n",
      "F1-мера на валидационной выборке: 0.6195524146054182\n",
      "0.0    4804\n",
      "1.0    4784\n",
      "Name: Exited, dtype: int64\n",
      "Количество деревьев -  190\n",
      "F1-мера на валидационной выборке: 0.6219081272084807\n",
      "0.0    4804\n",
      "1.0    4784\n",
      "Name: Exited, dtype: int64\n",
      "Количество деревьев -  200\n",
      "F1-мера на валидационной выборке: 0.6211764705882353\n"
     ]
    }
   ],
   "source": [
    "for estimators in range(10, 201, 10):\n",
    "    model = RandomForestClassifier(n_estimators = estimators, max_depth=12, random_state = 12345)\n",
    "    train_and_predict(data_ordinal, model, estimators = estimators, samplefunc = upsample)"
   ]
  },
  {
   "cell_type": "markdown",
   "metadata": {},
   "source": [
    "Для модели случайного леса метод upsampling выдал почти такой же результат как и при балансировке. Возможный выигрыш в сотых долях не такой существенный и можно использовать параметр class_weight на тестовой выборке."
   ]
  },
  {
   "cell_type": "markdown",
   "metadata": {},
   "source": [
    "### Уменьшение выборки"
   ]
  },
  {
   "cell_type": "code",
   "execution_count": 112,
   "metadata": {
    "pycharm": {
     "name": "#%%\n"
    }
   },
   "outputs": [],
   "source": [
    "def downsample(features, target, fraction = 0.25):\n",
    "    features_zeros = features[target == 0]\n",
    "    features_ones = features[target == 1]\n",
    "    target_zeros = target[target == 0]\n",
    "    target_ones = target[target == 1]\n",
    "\n",
    "    features_downsampled = pd.concat(\n",
    "        [features_zeros.sample(frac=fraction, random_state=12345)] + [features_ones]\n",
    "    )\n",
    "    target_downsampled = pd.concat(\n",
    "        [target_zeros.sample(frac=fraction, random_state=12345)] + [target_ones]\n",
    "    )\n",
    "    \n",
    "    return features_downsampled, target_downsampled"
   ]
  },
  {
   "cell_type": "markdown",
   "metadata": {},
   "source": [
    "#### Логистическая регрессия"
   ]
  },
  {
   "cell_type": "code",
   "execution_count": 113,
   "metadata": {
    "pycharm": {
     "name": "#%%\n"
    }
   },
   "outputs": [
    {
     "name": "stdout",
     "output_type": "stream",
     "text": [
      "0    1201\n",
      "1    1196\n",
      "Name: Exited, dtype: int64\n",
      "F1-мера на валидационной выборке: 0.4918594687232219\n"
     ]
    },
    {
     "data": {
      "text/plain": [
       "LogisticRegression(C=1.0, class_weight=None, dual=False, fit_intercept=True,\n",
       "                   intercept_scaling=1, l1_ratio=None, max_iter=100,\n",
       "                   multi_class='warn', n_jobs=None, penalty='l2',\n",
       "                   random_state=12345, solver='liblinear', tol=0.0001,\n",
       "                   verbose=0, warm_start=False)"
      ]
     },
     "execution_count": 113,
     "metadata": {},
     "output_type": "execute_result"
    }
   ],
   "source": [
    "model = LogisticRegression(solver='liblinear', random_state=12345)\n",
    "train_and_predict(data_ohe, model, samplefunc=downsample)"
   ]
  },
  {
   "cell_type": "markdown",
   "metadata": {},
   "source": [
    "#### Дерево решений"
   ]
  },
  {
   "cell_type": "code",
   "execution_count": 114,
   "metadata": {
    "pycharm": {
     "name": "#%%\n"
    }
   },
   "outputs": [
    {
     "name": "stdout",
     "output_type": "stream",
     "text": [
      "0.0    1201\n",
      "1.0    1196\n",
      "Name: Exited, dtype: int64\n",
      "Максимальная глубина -  2\n",
      "F1-мера на валидационной выборке: 0.5394495412844036\n",
      "0.0    1201\n",
      "1.0    1196\n",
      "Name: Exited, dtype: int64\n",
      "Максимальная глубина -  4\n",
      "F1-мера на валидационной выборке: 0.5357737104825291\n",
      "0.0    1201\n",
      "1.0    1196\n",
      "Name: Exited, dtype: int64\n",
      "Максимальная глубина -  6\n",
      "F1-мера на валидационной выборке: 0.5722379603399433\n",
      "0.0    1201\n",
      "1.0    1196\n",
      "Name: Exited, dtype: int64\n",
      "Максимальная глубина -  8\n",
      "F1-мера на валидационной выборке: 0.5297397769516728\n",
      "0.0    1201\n",
      "1.0    1196\n",
      "Name: Exited, dtype: int64\n",
      "Максимальная глубина -  10\n",
      "F1-мера на валидационной выборке: 0.5279850746268657\n",
      "0.0    1201\n",
      "1.0    1196\n",
      "Name: Exited, dtype: int64\n",
      "Максимальная глубина -  12\n",
      "F1-мера на валидационной выборке: 0.5048715677590787\n",
      "0.0    1201\n",
      "1.0    1196\n",
      "Name: Exited, dtype: int64\n",
      "Максимальная глубина -  14\n",
      "F1-мера на валидационной выборке: 0.4802686817800168\n",
      "0.0    1201\n",
      "1.0    1196\n",
      "Name: Exited, dtype: int64\n",
      "Максимальная глубина -  16\n",
      "F1-мера на валидационной выборке: 0.4970906068162926\n",
      "0.0    1201\n",
      "1.0    1196\n",
      "Name: Exited, dtype: int64\n",
      "Максимальная глубина -  18\n",
      "F1-мера на валидационной выборке: 0.5004170141784821\n",
      "0.0    1201\n",
      "1.0    1196\n",
      "Name: Exited, dtype: int64\n",
      "Максимальная глубина -  20\n",
      "F1-мера на валидационной выборке: 0.4987531172069826\n"
     ]
    }
   ],
   "source": [
    "for max_depth in range(2, 22, 2):\n",
    "    model = DecisionTreeClassifier(max_depth=max_depth, random_state=12345)\n",
    "    train_and_predict(data_ordinal, model, max_depth=max_depth, samplefunc=downsample)"
   ]
  },
  {
   "cell_type": "markdown",
   "metadata": {},
   "source": [
    "#### Случайный лес"
   ]
  },
  {
   "cell_type": "code",
   "execution_count": 115,
   "metadata": {
    "pycharm": {
     "name": "#%%\n"
    }
   },
   "outputs": [
    {
     "name": "stdout",
     "output_type": "stream",
     "text": [
      "0.0    1201\n",
      "1.0    1196\n",
      "Name: Exited, dtype: int64\n",
      "Количество деревьев -  10\n",
      "F1-мера на валидационной выборке: 0.5548617305976806\n",
      "0.0    1201\n",
      "1.0    1196\n",
      "Name: Exited, dtype: int64\n",
      "Количество деревьев -  20\n",
      "F1-мера на валидационной выборке: 0.5818847209515096\n",
      "0.0    1201\n",
      "1.0    1196\n",
      "Name: Exited, dtype: int64\n",
      "Количество деревьев -  30\n",
      "F1-мера на валидационной выборке: 0.5744493392070484\n",
      "0.0    1201\n",
      "1.0    1196\n",
      "Name: Exited, dtype: int64\n",
      "Количество деревьев -  40\n",
      "F1-мера на валидационной выборке: 0.5693950177935942\n",
      "0.0    1201\n",
      "1.0    1196\n",
      "Name: Exited, dtype: int64\n",
      "Количество деревьев -  50\n",
      "F1-мера на валидационной выборке: 0.5622280243690164\n",
      "0.0    1201\n",
      "1.0    1196\n",
      "Name: Exited, dtype: int64\n",
      "Количество деревьев -  60\n",
      "F1-мера на валидационной выборке: 0.5626643295354952\n",
      "0.0    1201\n",
      "1.0    1196\n",
      "Name: Exited, dtype: int64\n",
      "Количество деревьев -  70\n",
      "F1-мера на валидационной выборке: 0.5618556701030928\n",
      "0.0    1201\n",
      "1.0    1196\n",
      "Name: Exited, dtype: int64\n",
      "Количество деревьев -  80\n",
      "F1-мера на валидационной выборке: 0.5550660792951542\n",
      "0.0    1201\n",
      "1.0    1196\n",
      "Name: Exited, dtype: int64\n",
      "Количество деревьев -  90\n",
      "F1-мера на валидационной выборке: 0.5669291338582678\n",
      "0.0    1201\n",
      "1.0    1196\n",
      "Name: Exited, dtype: int64\n",
      "Количество деревьев -  100\n",
      "F1-мера на валидационной выборке: 0.5696539485359361\n",
      "0.0    1201\n",
      "1.0    1196\n",
      "Name: Exited, dtype: int64\n",
      "Количество деревьев -  110\n",
      "F1-мера на валидационной выборке: 0.5619546247818499\n",
      "0.0    1201\n",
      "1.0    1196\n",
      "Name: Exited, dtype: int64\n",
      "Количество деревьев -  120\n",
      "F1-мера на валидационной выборке: 0.5671111111111111\n",
      "0.0    1201\n",
      "1.0    1196\n",
      "Name: Exited, dtype: int64\n",
      "Количество деревьев -  130\n",
      "F1-мера на валидационной выборке: 0.5686274509803922\n",
      "0.0    1201\n",
      "1.0    1196\n",
      "Name: Exited, dtype: int64\n",
      "Количество деревьев -  140\n",
      "F1-мера на валидационной выборке: 0.5696428571428571\n",
      "0.0    1201\n",
      "1.0    1196\n",
      "Name: Exited, dtype: int64\n",
      "Количество деревьев -  150\n",
      "F1-мера на валидационной выборке: 0.5698924731182795\n",
      "0.0    1201\n",
      "1.0    1196\n",
      "Name: Exited, dtype: int64\n",
      "Количество деревьев -  160\n",
      "F1-мера на валидационной выборке: 0.5719457013574659\n",
      "0.0    1201\n",
      "1.0    1196\n",
      "Name: Exited, dtype: int64\n",
      "Количество деревьев -  170\n",
      "F1-мера на валидационной выборке: 0.5727272727272728\n",
      "0.0    1201\n",
      "1.0    1196\n",
      "Name: Exited, dtype: int64\n",
      "Количество деревьев -  180\n",
      "F1-мера на валидационной выборке: 0.5673249551166966\n",
      "0.0    1201\n",
      "1.0    1196\n",
      "Name: Exited, dtype: int64\n",
      "Количество деревьев -  190\n",
      "F1-мера на валидационной выборке: 0.5544729849424269\n",
      "0.0    1201\n",
      "1.0    1196\n",
      "Name: Exited, dtype: int64\n",
      "Количество деревьев -  200\n",
      "F1-мера на валидационной выборке: 0.5533807829181495\n"
     ]
    }
   ],
   "source": [
    "for estimators in range(10, 201, 10):\n",
    "    model = RandomForestClassifier(n_estimators=estimators, max_depth=2, random_state=12345)\n",
    "    train_and_predict(data_ordinal, model, estimators=estimators, samplefunc=downsample)"
   ]
  },
  {
   "cell_type": "markdown",
   "metadata": {},
   "source": [
    "---\n",
    "\n",
    "Значения F1-меры у моделей Логистической регрессии и Дерева решений почти такие же как и с балансировкой, а результаты для модели Случайного леса оказались даже хуже.\n",
    "\n",
    "Соответственно, на тестовой выборке будем использовать балансировку через параметр class_weight."
   ]
  },
  {
   "cell_type": "markdown",
   "metadata": {},
   "source": [
    "## 4. Тестирование модели"
   ]
  },
  {
   "cell_type": "markdown",
   "metadata": {},
   "source": [
    "Протестируем модель случайного леса с глубиной 8 и 100 деревьями + балансировкой классов на тестовой выборке:"
   ]
  },
  {
   "cell_type": "code",
   "execution_count": 116,
   "metadata": {
    "pycharm": {
     "name": "#%%\n"
    }
   },
   "outputs": [
    {
     "name": "stdout",
     "output_type": "stream",
     "text": [
      "valid: 0.6189427312775331\n",
      "test: 0.6069868995633186\n"
     ]
    }
   ],
   "source": [
    "target, features = prepare_data(data_ordinal)\n",
    "features_train, features_valid, features_test, target_train, target_valid, target_test = split_data(features, target)\n",
    "\n",
    "model = RandomForestClassifier(class_weight='balanced', n_estimators=100, max_depth=8, random_state=12345)\n",
    "model.fit(features_train, target_train)\n",
    "\n",
    "predicted_valid = model.predict(features_valid)\n",
    "print('valid:', f1_score(target_valid, predicted_valid))\n",
    "\n",
    "predicted_test = model.predict(features_test)\n",
    "print('test:', f1_score(target_test, predicted_test))"
   ]
  },
  {
   "cell_type": "markdown",
   "metadata": {},
   "source": [
    "На валидационной выборке получили F1-меру равную 0.62, а на тестовой 0.6.\n",
    "Посчитаем AUC-ROC для нашей модели и посмотрим насколько она лучше случайной модели:"
   ]
  },
  {
   "cell_type": "code",
   "execution_count": 117,
   "metadata": {
    "pycharm": {
     "name": "#%%\n"
    }
   },
   "outputs": [
    {
     "data": {
      "text/plain": [
       "0.8542287940285146"
      ]
     },
     "execution_count": 117,
     "metadata": {},
     "output_type": "execute_result"
    }
   ],
   "source": [
    "probabilities_valid = model.predict_proba(features_valid)\n",
    "probabilities_one_valid = probabilities_valid[:, 1]\n",
    "\n",
    "roc_auc_score(target_valid, probabilities_one_valid)"
   ]
  },
  {
   "cell_type": "markdown",
   "metadata": {},
   "source": [
    "AUC-ROC нашей модели 0.84, что является вполне неплохим показателем и лучше случайной модели на 0.34"
   ]
  },
  {
   "cell_type": "markdown",
   "metadata": {},
   "source": [
    "# Чек-лист готовности проекта"
   ]
  },
  {
   "cell_type": "markdown",
   "metadata": {},
   "source": [
    "Поставьте 'x' в выполненных пунктах. Далее нажмите Shift+Enter."
   ]
  },
  {
   "cell_type": "markdown",
   "metadata": {
    "pycharm": {
     "name": "#%% md\n"
    }
   },
   "source": [
    "- [x]  Jupyter Notebook открыт\n",
    "- [x]  Весь код выполняется без ошибок\n",
    "- [x]  Ячейки с кодом расположены в порядке исполнения\n",
    "- [x]  Выполнен шаг 1: данные подготовлены\n",
    "- [x]  Выполнен шаг 2: задача исследована\n",
    "    - [x]  Исследован баланс классов\n",
    "    - [x]  Изучены модели без учёта дисбаланса\n",
    "    - [x]  Написаны выводы по результатам исследования\n",
    "- [x]  Выполнен шаг 3: учтён дисбаланс\n",
    "    - [x]  Применено несколько способов борьбы с дисбалансом\n",
    "    - [x]  Написаны выводы по результатам исследования\n",
    "- [x]  Выполнен шаг 4: проведено тестирование\n",
    "- [x]  Удалось достичь *F1*-меры не менее 0.59\n",
    "- [x]  Исследована метрика *AUC-ROC*"
   ]
  }
 ],
 "metadata": {
  "kernelspec": {
   "display_name": "Python 3",
   "language": "python",
   "name": "python3"
  },
  "language_info": {
   "codemirror_mode": {
    "name": "ipython",
    "version": 3
   },
   "file_extension": ".py",
   "mimetype": "text/x-python",
   "name": "python",
   "nbconvert_exporter": "python",
   "pygments_lexer": "ipython3",
   "version": "3.7.6"
  }
 },
 "nbformat": 4,
 "nbformat_minor": 1
}
